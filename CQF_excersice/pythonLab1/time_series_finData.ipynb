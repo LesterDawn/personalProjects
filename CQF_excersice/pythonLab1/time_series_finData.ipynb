{
 "cells": [
  {
   "cell_type": "code",
   "execution_count": 8,
   "metadata": {
    "collapsed": true,
    "pycharm": {
     "is_executing": false
    },
    "ExecuteTime": {
     "end_time": "2023-07-04T16:33:32.418446500Z",
     "start_time": "2023-07-04T16:33:32.355162400Z"
    }
   },
   "outputs": [],
   "source": [
    "# Import data manipulation libraries\n",
    "import numpy as np\n",
    "import pandas as pd\n",
    "# Import yahoo finance library\n",
    "import yfinance as yf\n",
    "# Import cufflinks for visualization\n",
    "import cufflinks as cf\n",
    "# cf.set_config_file(offline=True, theme='pearl')\n",
    "# Ignore warnings - optional\n",
    "import warnings\n",
    "warnings.filterwarnings('ignore')\n",
    "# help(yf.download)\n",
    "# yf.download?"
   ]
  },
  {
   "cell_type": "code",
   "execution_count": 9,
   "outputs": [
    {
     "data": {
      "text/plain": "                                 Open        High         Low       Close  \\\nDate                                                                        \n2023-06-27 00:00:00-04:00  432.350006  436.809998  431.880005  436.170013   \n2023-06-28 00:00:00-04:00  435.049988  437.440002  434.410004  436.390015   \n2023-06-29 00:00:00-04:00  435.959991  438.279999  435.540009  438.109985   \n2023-06-30 00:00:00-04:00  441.440002  444.299988  441.109985  443.279999   \n2023-07-03 00:00:00-04:00  442.920013  444.079987  442.630005  443.790009   \n\n                            Adj Close     Volume  \nDate                                              \n2023-06-27 00:00:00-04:00  436.170013   72813700  \n2023-06-28 00:00:00-04:00  436.390015   75636000  \n2023-06-29 00:00:00-04:00  438.109985   67882300  \n2023-06-30 00:00:00-04:00  443.279999  104921500  \n2023-07-03 00:00:00-04:00  443.790009   32793400  ",
      "text/html": "<div>\n<style scoped>\n    .dataframe tbody tr th:only-of-type {\n        vertical-align: middle;\n    }\n\n    .dataframe tbody tr th {\n        vertical-align: top;\n    }\n\n    .dataframe thead th {\n        text-align: right;\n    }\n</style>\n<table border=\"1\" class=\"dataframe\">\n  <thead>\n    <tr style=\"text-align: right;\">\n      <th></th>\n      <th>Open</th>\n      <th>High</th>\n      <th>Low</th>\n      <th>Close</th>\n      <th>Adj Close</th>\n      <th>Volume</th>\n    </tr>\n    <tr>\n      <th>Date</th>\n      <th></th>\n      <th></th>\n      <th></th>\n      <th></th>\n      <th></th>\n      <th></th>\n    </tr>\n  </thead>\n  <tbody>\n    <tr>\n      <th>2023-06-27 00:00:00-04:00</th>\n      <td>432.350006</td>\n      <td>436.809998</td>\n      <td>431.880005</td>\n      <td>436.170013</td>\n      <td>436.170013</td>\n      <td>72813700</td>\n    </tr>\n    <tr>\n      <th>2023-06-28 00:00:00-04:00</th>\n      <td>435.049988</td>\n      <td>437.440002</td>\n      <td>434.410004</td>\n      <td>436.390015</td>\n      <td>436.390015</td>\n      <td>75636000</td>\n    </tr>\n    <tr>\n      <th>2023-06-29 00:00:00-04:00</th>\n      <td>435.959991</td>\n      <td>438.279999</td>\n      <td>435.540009</td>\n      <td>438.109985</td>\n      <td>438.109985</td>\n      <td>67882300</td>\n    </tr>\n    <tr>\n      <th>2023-06-30 00:00:00-04:00</th>\n      <td>441.440002</td>\n      <td>444.299988</td>\n      <td>441.109985</td>\n      <td>443.279999</td>\n      <td>443.279999</td>\n      <td>104921500</td>\n    </tr>\n    <tr>\n      <th>2023-07-03 00:00:00-04:00</th>\n      <td>442.920013</td>\n      <td>444.079987</td>\n      <td>442.630005</td>\n      <td>443.790009</td>\n      <td>443.790009</td>\n      <td>32793400</td>\n    </tr>\n  </tbody>\n</table>\n</div>"
     },
     "execution_count": 9,
     "metadata": {},
     "output_type": "execute_result"
    }
   ],
   "source": [
    " # Fetch the data by specifying the number of period\n",
    "#df1 = yf.download('SPY', period='5d', progress=False, proxy=\"localhost:4567\")\n",
    "df1 = yf.download('SPY', period='5d', progress=False)\n",
    "df1\n",
    "\n"
   ],
   "metadata": {
    "collapsed": false,
    "pycharm": {
     "name": "#%%\n",
     "is_executing": false
    },
    "ExecuteTime": {
     "end_time": "2023-07-04T16:33:36.463726700Z",
     "start_time": "2023-07-04T16:33:32.370123400Z"
    }
   }
  },
  {
   "cell_type": "code",
   "execution_count": 16,
   "outputs": [
    {
     "data": {
      "text/plain": "                                 Open        High         Low       Close  \\\nDate                                                                        \n2022-06-01 00:00:00-04:00  415.170013  416.239990  406.929993  409.589996   \n2022-06-02 00:00:00-04:00  409.420013  417.440002  407.040009  417.390015   \n2022-06-03 00:00:00-04:00  412.399994  414.040009  409.510010  410.540009   \n2022-06-06 00:00:00-04:00  414.779999  416.609985  410.549988  411.790009   \n2022-06-07 00:00:00-04:00  408.100006  416.220001  407.609985  415.739990   \n\n                            Adj Close    Volume  \nDate                                             \n2022-06-01 00:00:00-04:00  401.275543  86585800  \n2022-06-02 00:00:00-04:00  408.917236  79609600  \n2022-06-03 00:00:00-04:00  402.206299  71874300  \n2022-06-06 00:00:00-04:00  403.430878  57508900  \n2022-06-07 00:00:00-04:00  407.300690  59272400  ",
      "text/html": "<div>\n<style scoped>\n    .dataframe tbody tr th:only-of-type {\n        vertical-align: middle;\n    }\n\n    .dataframe tbody tr th {\n        vertical-align: top;\n    }\n\n    .dataframe thead th {\n        text-align: right;\n    }\n</style>\n<table border=\"1\" class=\"dataframe\">\n  <thead>\n    <tr style=\"text-align: right;\">\n      <th></th>\n      <th>Open</th>\n      <th>High</th>\n      <th>Low</th>\n      <th>Close</th>\n      <th>Adj Close</th>\n      <th>Volume</th>\n    </tr>\n    <tr>\n      <th>Date</th>\n      <th></th>\n      <th></th>\n      <th></th>\n      <th></th>\n      <th></th>\n      <th></th>\n    </tr>\n  </thead>\n  <tbody>\n    <tr>\n      <th>2022-06-01 00:00:00-04:00</th>\n      <td>415.170013</td>\n      <td>416.239990</td>\n      <td>406.929993</td>\n      <td>409.589996</td>\n      <td>401.275543</td>\n      <td>86585800</td>\n    </tr>\n    <tr>\n      <th>2022-06-02 00:00:00-04:00</th>\n      <td>409.420013</td>\n      <td>417.440002</td>\n      <td>407.040009</td>\n      <td>417.390015</td>\n      <td>408.917236</td>\n      <td>79609600</td>\n    </tr>\n    <tr>\n      <th>2022-06-03 00:00:00-04:00</th>\n      <td>412.399994</td>\n      <td>414.040009</td>\n      <td>409.510010</td>\n      <td>410.540009</td>\n      <td>402.206299</td>\n      <td>71874300</td>\n    </tr>\n    <tr>\n      <th>2022-06-06 00:00:00-04:00</th>\n      <td>414.779999</td>\n      <td>416.609985</td>\n      <td>410.549988</td>\n      <td>411.790009</td>\n      <td>403.430878</td>\n      <td>57508900</td>\n    </tr>\n    <tr>\n      <th>2022-06-07 00:00:00-04:00</th>\n      <td>408.100006</td>\n      <td>416.220001</td>\n      <td>407.609985</td>\n      <td>415.739990</td>\n      <td>407.300690</td>\n      <td>59272400</td>\n    </tr>\n  </tbody>\n</table>\n</div>"
     },
     "execution_count": 16,
     "metadata": {},
     "output_type": "execute_result"
    }
   ],
   "source": [
    "# Fetch data by specifying the start and end dates\n",
    "df2 = yf.download('SPY', start='2022-06-01', end='2022-06-30', progress=False)\n",
    "# Display the first five rows of the dataframe to check the results.\n",
    "df2.head()\n",
    "\n"
   ],
   "metadata": {
    "collapsed": false,
    "pycharm": {
     "name": "#%%\n",
     "is_executing": false
    },
    "ExecuteTime": {
     "end_time": "2023-07-04T16:34:55.916807Z",
     "start_time": "2023-07-04T16:34:55.370276100Z"
    }
   }
  },
  {
   "cell_type": "code",
   "execution_count": 17,
   "outputs": [
    {
     "data": {
      "text/plain": "                                 Open        High         Low       Close  \\\nDate                                                                        \n2023-06-27 00:00:00-04:00  432.350006  436.809998  431.880005  436.170013   \n2023-06-28 00:00:00-04:00  435.049988  437.440002  434.410004  436.390015   \n2023-06-29 00:00:00-04:00  435.959991  438.279999  435.540009  438.109985   \n2023-06-30 00:00:00-04:00  441.440002  444.299988  441.109985  443.279999   \n2023-07-03 00:00:00-04:00  442.920013  444.079987  442.630005  443.790009   \n\n                            Adj Close     Volume  \nDate                                              \n2023-06-27 00:00:00-04:00  436.170013   72813700  \n2023-06-28 00:00:00-04:00  436.390015   75636000  \n2023-06-29 00:00:00-04:00  438.109985   67882300  \n2023-06-30 00:00:00-04:00  443.279999  104921500  \n2023-07-03 00:00:00-04:00  443.790009   32793400  ",
      "text/html": "<div>\n<style scoped>\n    .dataframe tbody tr th:only-of-type {\n        vertical-align: middle;\n    }\n\n    .dataframe tbody tr th {\n        vertical-align: top;\n    }\n\n    .dataframe thead th {\n        text-align: right;\n    }\n</style>\n<table border=\"1\" class=\"dataframe\">\n  <thead>\n    <tr style=\"text-align: right;\">\n      <th></th>\n      <th>Open</th>\n      <th>High</th>\n      <th>Low</th>\n      <th>Close</th>\n      <th>Adj Close</th>\n      <th>Volume</th>\n    </tr>\n    <tr>\n      <th>Date</th>\n      <th></th>\n      <th></th>\n      <th></th>\n      <th></th>\n      <th></th>\n      <th></th>\n    </tr>\n  </thead>\n  <tbody>\n    <tr>\n      <th>2023-06-27 00:00:00-04:00</th>\n      <td>432.350006</td>\n      <td>436.809998</td>\n      <td>431.880005</td>\n      <td>436.170013</td>\n      <td>436.170013</td>\n      <td>72813700</td>\n    </tr>\n    <tr>\n      <th>2023-06-28 00:00:00-04:00</th>\n      <td>435.049988</td>\n      <td>437.440002</td>\n      <td>434.410004</td>\n      <td>436.390015</td>\n      <td>436.390015</td>\n      <td>75636000</td>\n    </tr>\n    <tr>\n      <th>2023-06-29 00:00:00-04:00</th>\n      <td>435.959991</td>\n      <td>438.279999</td>\n      <td>435.540009</td>\n      <td>438.109985</td>\n      <td>438.109985</td>\n      <td>67882300</td>\n    </tr>\n    <tr>\n      <th>2023-06-30 00:00:00-04:00</th>\n      <td>441.440002</td>\n      <td>444.299988</td>\n      <td>441.109985</td>\n      <td>443.279999</td>\n      <td>443.279999</td>\n      <td>104921500</td>\n    </tr>\n    <tr>\n      <th>2023-07-03 00:00:00-04:00</th>\n      <td>442.920013</td>\n      <td>444.079987</td>\n      <td>442.630005</td>\n      <td>443.790009</td>\n      <td>443.790009</td>\n      <td>32793400</td>\n    </tr>\n  </tbody>\n</table>\n</div>"
     },
     "execution_count": 17,
     "metadata": {},
     "output_type": "execute_result"
    }
   ],
   "source": [
    "# Fetch data for year to date (YTD)\n",
    "df3 = yf.download('SPY', period='ytd', progress=False)\n",
    "# Display the last five rows of the dataframe to check the results.\n",
    "df3.tail()\n",
    "\n",
    "\n"
   ],
   "metadata": {
    "collapsed": false,
    "pycharm": {
     "name": "#%%\n",
     "is_executing": false
    },
    "ExecuteTime": {
     "end_time": "2023-07-04T16:35:16.933313700Z",
     "start_time": "2023-07-04T16:35:15.683141700Z"
    }
   }
  },
  {
   "cell_type": "code",
   "execution_count": 12,
   "outputs": [],
   "source": [
    "# Specify stocks\n",
    "# https://en.wikipedia.org/wiki/Dow_Jones_Industrial_Average\n",
    "dow_stocks = ['UNH', 'GS', 'HD', 'AMGN', 'MCD']"
   ],
   "metadata": {
    "collapsed": false,
    "ExecuteTime": {
     "end_time": "2023-07-04T16:33:46.665989Z",
     "start_time": "2023-07-04T16:33:46.628090600Z"
    }
   }
  },
  {
   "cell_type": "code",
   "execution_count": 13,
   "outputs": [
    {
     "data": {
      "text/plain": "                                 AMGN          GS          HD         MCD  \\\nDate                                                                        \n2023-06-27 00:00:00-04:00  222.610001  313.450012  313.739990  291.299988   \n2023-06-28 00:00:00-04:00  221.309998  313.660004  306.510010  291.739990   \n2023-06-29 00:00:00-04:00  221.160004  323.089996  307.820007  294.470001   \n2023-06-30 00:00:00-04:00  222.020004  322.540009  310.640015  298.410004   \n2023-07-03 00:00:00-04:00  225.009995  326.609985  310.019989  294.839996   \n\n                                  UNH  \nDate                                   \n2023-06-27 00:00:00-04:00  482.559998  \n2023-06-28 00:00:00-04:00  474.450012  \n2023-06-29 00:00:00-04:00  476.440002  \n2023-06-30 00:00:00-04:00  480.640015  \n2023-07-03 00:00:00-04:00  477.880005  ",
      "text/html": "<div>\n<style scoped>\n    .dataframe tbody tr th:only-of-type {\n        vertical-align: middle;\n    }\n\n    .dataframe tbody tr th {\n        vertical-align: top;\n    }\n\n    .dataframe thead th {\n        text-align: right;\n    }\n</style>\n<table border=\"1\" class=\"dataframe\">\n  <thead>\n    <tr style=\"text-align: right;\">\n      <th></th>\n      <th>AMGN</th>\n      <th>GS</th>\n      <th>HD</th>\n      <th>MCD</th>\n      <th>UNH</th>\n    </tr>\n    <tr>\n      <th>Date</th>\n      <th></th>\n      <th></th>\n      <th></th>\n      <th></th>\n      <th></th>\n    </tr>\n  </thead>\n  <tbody>\n    <tr>\n      <th>2023-06-27 00:00:00-04:00</th>\n      <td>222.610001</td>\n      <td>313.450012</td>\n      <td>313.739990</td>\n      <td>291.299988</td>\n      <td>482.559998</td>\n    </tr>\n    <tr>\n      <th>2023-06-28 00:00:00-04:00</th>\n      <td>221.309998</td>\n      <td>313.660004</td>\n      <td>306.510010</td>\n      <td>291.739990</td>\n      <td>474.450012</td>\n    </tr>\n    <tr>\n      <th>2023-06-29 00:00:00-04:00</th>\n      <td>221.160004</td>\n      <td>323.089996</td>\n      <td>307.820007</td>\n      <td>294.470001</td>\n      <td>476.440002</td>\n    </tr>\n    <tr>\n      <th>2023-06-30 00:00:00-04:00</th>\n      <td>222.020004</td>\n      <td>322.540009</td>\n      <td>310.640015</td>\n      <td>298.410004</td>\n      <td>480.640015</td>\n    </tr>\n    <tr>\n      <th>2023-07-03 00:00:00-04:00</th>\n      <td>225.009995</td>\n      <td>326.609985</td>\n      <td>310.019989</td>\n      <td>294.839996</td>\n      <td>477.880005</td>\n    </tr>\n  </tbody>\n</table>\n</div>"
     },
     "execution_count": 13,
     "metadata": {},
     "output_type": "execute_result"
    }
   ],
   "source": [
    "# Fetch data for multiple stocks at once\n",
    "df4 = yf.download(dow_stocks, period='ytd', progress=False)['Adj Close']\n",
    "# Display dataframe\n",
    "df4.tail()"
   ],
   "metadata": {
    "collapsed": false,
    "ExecuteTime": {
     "end_time": "2023-07-04T16:33:49.193325200Z",
     "start_time": "2023-07-04T16:33:46.648036800Z"
    }
   }
  },
  {
   "cell_type": "code",
   "execution_count": 14,
   "outputs": [
    {
     "name": "stdout",
     "output_type": "stream",
     "text": [
      "\n",
      "1 Failed download:\n",
      "- UNH: No data found for this date range, symbol may be delisted\n"
     ]
    }
   ],
   "source": [
    "# Fetch data for multiple fields using comprehension\n",
    "ohlcv = {symbol: yf.download(symbol, period='250d', progress=False) for symbol in dow_stocks}"
   ],
   "metadata": {
    "collapsed": false,
    "ExecuteTime": {
     "end_time": "2023-07-04T16:34:09.074638500Z",
     "start_time": "2023-07-04T16:33:49.199309200Z"
    }
   }
  },
  {
   "cell_type": "code",
   "execution_count": 15,
   "outputs": [
    {
     "data": {
      "text/plain": "                                 Open        High         Low       Close  \\\nDatetime                                                                    \n2023-06-27 09:30:00-04:00  432.609985  432.619995  432.609985  432.619995   \n2023-06-27 09:31:00-04:00  432.619995  432.660004  432.429993  432.500000   \n2023-06-27 09:32:00-04:00  432.500000  432.660004  432.239990  432.299988   \n2023-06-27 09:33:00-04:00  432.309998  432.600006  432.279999  432.480011   \n2023-06-27 09:34:00-04:00  432.480011  432.799988  432.480011  432.710114   \n...                               ...         ...         ...         ...   \n2023-07-03 12:42:00-04:00  443.875000  443.880005  443.834991  443.869995   \n2023-07-03 12:43:00-04:00  443.875000  443.920013  443.839996  443.875000   \n2023-07-03 12:44:00-04:00  443.880005  443.904999  443.869995  443.890015   \n2023-07-03 12:45:00-04:00  443.890015  443.929993  443.879700  443.880096   \n2023-07-03 13:00:00-04:00  443.790009  443.790009  443.790009  443.790009   \n\n                            Adj Close   Volume  \nDatetime                                        \n2023-06-27 09:30:00-04:00  432.619995  1146785  \n2023-06-27 09:31:00-04:00  432.500000   181906  \n2023-06-27 09:32:00-04:00  432.299988   221527  \n2023-06-27 09:33:00-04:00  432.480011   144586  \n2023-06-27 09:34:00-04:00  432.710114   236760  \n...                               ...      ...  \n2023-07-03 12:42:00-04:00  443.869995   122901  \n2023-07-03 12:43:00-04:00  443.875000    96413  \n2023-07-03 12:44:00-04:00  443.890015    99755  \n2023-07-03 12:45:00-04:00  443.880096    74858  \n2023-07-03 13:00:00-04:00  443.790009  5779426  \n\n[1757 rows x 6 columns]",
      "text/html": "<div>\n<style scoped>\n    .dataframe tbody tr th:only-of-type {\n        vertical-align: middle;\n    }\n\n    .dataframe tbody tr th {\n        vertical-align: top;\n    }\n\n    .dataframe thead th {\n        text-align: right;\n    }\n</style>\n<table border=\"1\" class=\"dataframe\">\n  <thead>\n    <tr style=\"text-align: right;\">\n      <th></th>\n      <th>Open</th>\n      <th>High</th>\n      <th>Low</th>\n      <th>Close</th>\n      <th>Adj Close</th>\n      <th>Volume</th>\n    </tr>\n    <tr>\n      <th>Datetime</th>\n      <th></th>\n      <th></th>\n      <th></th>\n      <th></th>\n      <th></th>\n      <th></th>\n    </tr>\n  </thead>\n  <tbody>\n    <tr>\n      <th>2023-06-27 09:30:00-04:00</th>\n      <td>432.609985</td>\n      <td>432.619995</td>\n      <td>432.609985</td>\n      <td>432.619995</td>\n      <td>432.619995</td>\n      <td>1146785</td>\n    </tr>\n    <tr>\n      <th>2023-06-27 09:31:00-04:00</th>\n      <td>432.619995</td>\n      <td>432.660004</td>\n      <td>432.429993</td>\n      <td>432.500000</td>\n      <td>432.500000</td>\n      <td>181906</td>\n    </tr>\n    <tr>\n      <th>2023-06-27 09:32:00-04:00</th>\n      <td>432.500000</td>\n      <td>432.660004</td>\n      <td>432.239990</td>\n      <td>432.299988</td>\n      <td>432.299988</td>\n      <td>221527</td>\n    </tr>\n    <tr>\n      <th>2023-06-27 09:33:00-04:00</th>\n      <td>432.309998</td>\n      <td>432.600006</td>\n      <td>432.279999</td>\n      <td>432.480011</td>\n      <td>432.480011</td>\n      <td>144586</td>\n    </tr>\n    <tr>\n      <th>2023-06-27 09:34:00-04:00</th>\n      <td>432.480011</td>\n      <td>432.799988</td>\n      <td>432.480011</td>\n      <td>432.710114</td>\n      <td>432.710114</td>\n      <td>236760</td>\n    </tr>\n    <tr>\n      <th>...</th>\n      <td>...</td>\n      <td>...</td>\n      <td>...</td>\n      <td>...</td>\n      <td>...</td>\n      <td>...</td>\n    </tr>\n    <tr>\n      <th>2023-07-03 12:42:00-04:00</th>\n      <td>443.875000</td>\n      <td>443.880005</td>\n      <td>443.834991</td>\n      <td>443.869995</td>\n      <td>443.869995</td>\n      <td>122901</td>\n    </tr>\n    <tr>\n      <th>2023-07-03 12:43:00-04:00</th>\n      <td>443.875000</td>\n      <td>443.920013</td>\n      <td>443.839996</td>\n      <td>443.875000</td>\n      <td>443.875000</td>\n      <td>96413</td>\n    </tr>\n    <tr>\n      <th>2023-07-03 12:44:00-04:00</th>\n      <td>443.880005</td>\n      <td>443.904999</td>\n      <td>443.869995</td>\n      <td>443.890015</td>\n      <td>443.890015</td>\n      <td>99755</td>\n    </tr>\n    <tr>\n      <th>2023-07-03 12:45:00-04:00</th>\n      <td>443.890015</td>\n      <td>443.929993</td>\n      <td>443.879700</td>\n      <td>443.880096</td>\n      <td>443.880096</td>\n      <td>74858</td>\n    </tr>\n    <tr>\n      <th>2023-07-03 13:00:00-04:00</th>\n      <td>443.790009</td>\n      <td>443.790009</td>\n      <td>443.790009</td>\n      <td>443.790009</td>\n      <td>443.790009</td>\n      <td>5779426</td>\n    </tr>\n  </tbody>\n</table>\n<p>1757 rows × 6 columns</p>\n</div>"
     },
     "execution_count": 15,
     "metadata": {},
     "output_type": "execute_result"
    }
   ],
   "source": [
    "# Retrieve intraday data for last five days\n",
    "df6 = yf.download('SPY', period='5d', interval='1m', progress=False)\n",
    "# Display dataframe\n",
    "df6"
   ],
   "metadata": {
    "collapsed": false,
    "ExecuteTime": {
     "end_time": "2023-07-04T16:34:10.794341200Z",
     "start_time": "2023-07-04T16:34:09.076632Z"
    }
   }
  },
  {
   "cell_type": "code",
   "execution_count": 15,
   "outputs": [],
   "source": [],
   "metadata": {
    "collapsed": false,
    "ExecuteTime": {
     "end_time": "2023-07-04T16:34:10.808122100Z",
     "start_time": "2023-07-04T16:34:10.797332600Z"
    }
   }
  },
  {
   "cell_type": "markdown",
   "source": [],
   "metadata": {
    "collapsed": false
   }
  }
 ],
 "metadata": {
  "kernelspec": {
   "display_name": "Python 3",
   "language": "python",
   "name": "python3"
  },
  "language_info": {
   "codemirror_mode": {
    "name": "ipython",
    "version": 2
   },
   "file_extension": ".py",
   "mimetype": "text/x-python",
   "name": "python",
   "nbconvert_exporter": "python",
   "pygments_lexer": "ipython2",
   "version": "2.7.6"
  },
  "pycharm": {
   "stem_cell": {
    "cell_type": "raw",
    "source": [],
    "metadata": {
     "collapsed": false
    }
   }
  }
 },
 "nbformat": 4,
 "nbformat_minor": 0
}
