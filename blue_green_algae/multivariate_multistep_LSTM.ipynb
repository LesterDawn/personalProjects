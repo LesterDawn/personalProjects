{
 "cells": [
  {
   "cell_type": "code",
   "execution_count": 1,
   "metadata": {
    "collapsed": true,
    "pycharm": {
     "name": "#%%\n"
    }
   },
   "outputs": [],
   "source": [
    "import numpy as np\n",
    "import pandas as pd\n",
    "import matplotlib.pyplot as plt\n",
    "%matplotlib inline\n",
    "import torch\n",
    "import torch.utils.data as Data\n",
    "import torch.nn as nn\n",
    "from torch.autograd import Variable\n",
    "from torch.utils.tensorboard import SummaryWriter\n",
    "from sklearn.metrics import mean_squared_error\n",
    "from sklearn.metrics import mean_absolute_error\n",
    "from sklearn.metrics import r2_score\n",
    "\n",
    "writer = SummaryWriter('runs/multi-features-LSTM')\n",
    "# from torchvision import transforms, datasets\n",
    "pd.set_option('display.max_columns', 1000)\n",
    "device = torch.device(\"cuda:0\" if torch.cuda.is_available() else \"cpu\")"
   ]
  },
  {
   "cell_type": "code",
   "execution_count": 2,
   "outputs": [],
   "source": [
    "from scipy.signal import savgol_filter\n",
    "# Get data and remove outliers and minus values\n",
    "def delete_outliers(data, filter):\n",
    "    if filter:\n",
    "        for attr in data.columns:\n",
    "            data[attr] = pd.DataFrame(savgol_filter(data[attr], window_length=11, polyorder=3))\n",
    "\n",
    "    data = data[data > 0].dropna()\n",
    "    data.reset_index(drop=True, inplace=True)\n",
    "    data_norm = (data - data.mean()) / (data.std())\n",
    "    data = data[abs(data_norm[:]) <= 3].dropna().reset_index(drop=True)\n",
    "    return data\n",
    "\n",
    "\n",
    "def get_data(data_path, outliers, filter):\n",
    "    data = pd.read_csv(data_path).dropna()\n",
    "    data = data.sort_values('时间')\n",
    "    attrs = ['叶绿素', '电导率', '溶解氧(mg/L)', '藻蛋白', '总溶解固体', '浊度', '温度', 'PH值']\n",
    "    data['藻蛋白'] /= 100\n",
    "    data = data[attrs]  # 8 features作为输入\n",
    "    if outliers:\n",
    "        data = delete_outliers(data, filter)\n",
    "    label = data['藻蛋白']  # 藻蛋白作为target\n",
    "\n",
    "    print(data.head())\n",
    "    print(label.head())\n",
    "    return data, label"
   ],
   "metadata": {
    "collapsed": false,
    "pycharm": {
     "name": "#%%\n"
    }
   }
  },
  {
   "cell_type": "code",
   "execution_count": 4,
   "outputs": [
    {
     "name": "stdout",
     "output_type": "stream",
     "text": [
      "     叶绿素     电导率  溶解氧(mg/L)      藻蛋白   总溶解固体     浊度      温度   PH值\n",
      "0  16.32  287.41       8.00  34.2167  162.96  12.59  32.319  8.76\n",
      "1  16.33  291.48       8.02  34.3243  165.28  12.56  32.317  8.76\n",
      "2  16.39  295.03       8.03  34.6086  167.29  12.56  32.316  8.77\n",
      "3  16.42  295.25       8.05  34.7303  167.41  12.54  32.318  8.77\n",
      "4  16.60  295.23       8.06  34.9762  167.39  12.59  32.320  8.78\n",
      "0    34.2167\n",
      "1    34.3243\n",
      "2    34.6086\n",
      "3    34.7303\n",
      "4    34.9762\n",
      "Name: 藻蛋白, dtype: float64\n"
     ]
    }
   ],
   "source": [
    "data, label = get_data('./datasets/监测数据1/监测数据-独墅-20220809.csv',\n",
    "                outliers=True, filter=False)"
   ],
   "metadata": {
    "collapsed": false,
    "pycharm": {
     "name": "#%%\n"
    }
   }
  },
  {
   "cell_type": "code",
   "execution_count": 5,
   "outputs": [],
   "source": [
    "def split_windows(data, seq_length, normalize):\n",
    "    data = np.array(data)\n",
    "    x = []\n",
    "    y = []\n",
    "    for i in range(len(data) - seq_length):  # range的范围需要减去时间步长和1\n",
    "        _x = data[i:(i + seq_length), :]\n",
    "        _y = data[i + seq_length, -1]\n",
    "        x.append(_x)\n",
    "        y.append(_y)\n",
    "    x = normalize_window(np.array(x), True) if normalize else np.array(x)\n",
    "    y = normalize_window(np.array(y), False) if normalize else np.array(y)\n",
    "    x, y = torch.tensor(x), torch.tensor(y)\n",
    "    print('x.shape,y.shape=\\n', x.shape, y.shape)\n",
    "    return x, y\n",
    "\n",
    "\n",
    "def normalize_window(x, x_or_y):\n",
    "    # get normalized data\n",
    "    if x_or_y:\n",
    "        normalized_data = []\n",
    "        for window in x:\n",
    "            normalized_window = []\n",
    "            for col_i in range(window.shape[1]):\n",
    "                a = float(window[0, col_i])\n",
    "                # print(a)\n",
    "                normalized_col = [((float(p) / a) - 1) for p in window[:, col_i]]\n",
    "                normalized_window.append(normalized_col)\n",
    "            normalized_window = np.array(normalized_window).T\n",
    "            normalized_data.append(normalized_window)\n",
    "        return np.array(normalized_data)\n",
    "    else:\n",
    "        normalized_col = [(float(p) / x[0]) - 1 for p in x]\n",
    "        return np.array(normalized_col)"
   ],
   "metadata": {
    "collapsed": false,
    "pycharm": {
     "name": "#%%\n"
    }
   }
  },
  {
   "cell_type": "code",
   "execution_count": 6,
   "outputs": [
    {
     "name": "stdout",
     "output_type": "stream",
     "text": [
      "x.shape,y.shape=\n",
      " torch.Size([2151, 10, 8]) torch.Size([2151])\n"
     ]
    }
   ],
   "source": [
    "x, y = split_windows(data, 10, True)"
   ],
   "metadata": {
    "collapsed": false,
    "pycharm": {
     "name": "#%%\n"
    }
   }
  },
  {
   "cell_type": "code",
   "execution_count": 7,
   "outputs": [],
   "source": [
    "# # scale the data\n",
    "# from sklearn.preprocessing import MinMaxScaler\n",
    "# mm_x = MinMaxScaler(feature_range=(0,1))\n",
    "# mm_y = MinMaxScaler(feature_range=(0,1))\n",
    "# data_norm = mm_x.fit_transform(data.values)\n",
    "# label_norm = mm_y.fit_transform(label.values.reshape(-1, 1))"
   ],
   "metadata": {
    "collapsed": false,
    "pycharm": {
     "name": "#%%\n"
    }
   }
  },
  {
   "cell_type": "code",
   "execution_count": 8,
   "outputs": [],
   "source": [
    "# convert the x and y values into arrays\n",
    "x, y = np.asarray(x), np.asarray(y)"
   ],
   "metadata": {
    "collapsed": false,
    "pycharm": {
     "name": "#%%\n"
    }
   }
  },
  {
   "cell_type": "code",
   "execution_count": 9,
   "outputs": [],
   "source": [
    "# split the dataset into train and test sets\n",
    "# transfer the nparray to variable so that the computation can be performed in GPU\n",
    "def split_data(x, y, split_ratio):\n",
    "    train_size = int(len(y) * split_ratio)\n",
    "    test_size = len(y) - train_size\n",
    "\n",
    "    x_data = Variable(torch.Tensor(x))\n",
    "    y_data = Variable(torch.Tensor(y))\n",
    "\n",
    "    x_train = Variable(torch.Tensor(x[0:train_size]))\n",
    "    y_train = Variable(torch.Tensor(y[0:train_size]))\n",
    "    y_test = Variable(torch.Tensor(y[train_size:len(y)]))\n",
    "    x_test = Variable(torch.Tensor(x[train_size:len(x)]))\n",
    "\n",
    "    print('x_data.shape,y_data.shape,x_train.shape,y_train.shape,x_test.shape,y_test.shape:\\n{}{}{}{}{}{}'\n",
    "          .format(x_data.shape, y_data.shape, x_train.shape, y_train.shape, x_test.shape, y_test.shape))\n",
    "\n",
    "    return x_data, y_data, x_train, y_train, x_test, y_test"
   ],
   "metadata": {
    "collapsed": false,
    "pycharm": {
     "name": "#%%\n"
    }
   }
  },
  {
   "cell_type": "code",
   "execution_count": 10,
   "outputs": [
    {
     "name": "stdout",
     "output_type": "stream",
     "text": [
      "x_data.shape,y_data.shape,x_train.shape,y_train.shape,x_test.shape,y_test.shape:\n",
      "torch.Size([2151, 10, 8])torch.Size([2151])torch.Size([1720, 10, 8])torch.Size([1720])torch.Size([431, 10, 8])torch.Size([431])\n"
     ]
    }
   ],
   "source": [
    "x_data, y_data, x_train, y_train, x_test, y_test = split_data(x, y, split_ratio=0.8)"
   ],
   "metadata": {
    "collapsed": false,
    "pycharm": {
     "name": "#%%\n"
    }
   }
  },
  {
   "cell_type": "code",
   "execution_count": 11,
   "outputs": [
    {
     "data": {
      "text/plain": "<matplotlib.lines.Line2D at 0x7f97d4396a30>"
     },
     "execution_count": 11,
     "metadata": {},
     "output_type": "execute_result"
    },
    {
     "data": {
      "text/plain": "<Figure size 432x288 with 1 Axes>",
      "image/png": "[encoded data removed]"
     },
     "metadata": {
      "needs_background": "light"
     },
     "output_type": "display_data"
    }
   ],
   "source": [
    "plt.plot(y)\n",
    "plt.axvline(int(len(x)*0.8))"
   ],
   "metadata": {
    "collapsed": false,
    "pycharm": {
     "name": "#%%\n"
    }
   }
  },
  {
   "cell_type": "code",
   "execution_count": 12,
   "outputs": [],
   "source": [
    "# 数据装入\n",
    "def data_generator(x_train, y_train, n_iters, batch_size):\n",
    "    num_epochs = n_iters / (len(x_train) / batch_size)  # n_iters代表一次迭代\n",
    "    num_epochs = int(num_epochs)\n",
    "    train_dataset = Data.TensorDataset(x_train, y_train)\n",
    "    test_dataset = Data.TensorDataset(x_train, y_train)\n",
    "    train_loader = torch.utils.data.DataLoader(dataset=train_dataset, batch_size=batch_size, shuffle=False,\n",
    "                                               drop_last=True)  # 加载数据集,使数据集可迭代\n",
    "    test_loader = torch.utils.data.DataLoader(dataset=test_dataset, batch_size=batch_size, shuffle=False,\n",
    "                                              drop_last=True)\n",
    "\n",
    "    return train_loader, test_loader, num_epochs"
   ],
   "metadata": {
    "collapsed": false,
    "pycharm": {
     "name": "#%%\n"
    }
   }
  },
  {
   "cell_type": "code",
   "execution_count": 13,
   "outputs": [],
   "source": [
    "# Implement LSTM\n",
    "class LSTM(nn.Module):\n",
    "    def __init__(self, input_size, hidden_size, num_layers, output_size, batch_size) -> None:\n",
    "        super(LSTM, self).__init__()\n",
    "        self.input_size = input_size\n",
    "        self.hidden_size = hidden_size\n",
    "        self.num_layers = num_layers\n",
    "        self.output_size = output_size\n",
    "        self.batch_size = batch_size\n",
    "        self.num_directions = 1  # 单向LSTM\n",
    "\n",
    "        self.lstm = nn.LSTM(input_size=input_size, hidden_size=hidden_size, num_layers=num_layers, batch_first=True, dropout=0.2).to(device)  # LSTM层\n",
    "        self.fc = nn.Linear(hidden_size, output_size).to(device)  # 全连接层\n",
    "\n",
    "    def forward(self, x):\n",
    "\n",
    "        # initialize the hidden state\n",
    "        h0 = torch.zeros(self.num_layers, x.size(0), self.hidden_size)\n",
    "        c0 = torch.zeros(self.num_layers, x.size(0), self.hidden_size)\n",
    "\n",
    "        # forward propagate\n",
    "        out, (h_,c_) = self.lstm(x.to(device), (h0.to(device), c0.to(device)))\n",
    "\n",
    "        out = self.fc(out)[:,-1,:]\n",
    "        return out"
   ],
   "metadata": {
    "collapsed": false,
    "pycharm": {
     "name": "#%%\n"
    }
   }
  },
  {
   "cell_type": "code",
   "execution_count": 14,
   "outputs": [
    {
     "name": "stdout",
     "output_type": "stream",
     "text": [
      "finish\n"
     ]
    }
   ],
   "source": [
    "# define the parameters and model\n",
    "input_size = 8\n",
    "output_size = 1\n",
    "num_layers = 8\n",
    "hidden_size = 12\n",
    "batch_size = 64\n",
    "n_iters = 10000\n",
    "lr = 0.001\n",
    "\n",
    "train_loader, test_loader, num_epochs = data_generator(x_train.to(device), y_train.to(device), n_iters, batch_size)\n",
    "lstm = LSTM(input_size, hidden_size, num_layers, output_size, batch_size).to(device)\n",
    "optimizer = torch.optim.Adam(lstm.parameters(), lr=lr)\n",
    "criterion = torch.nn.MSELoss().to(device)\n",
    "print('finish')"
   ],
   "metadata": {
    "collapsed": false,
    "pycharm": {
     "name": "#%%\n"
    }
   }
  },
  {
   "cell_type": "code",
   "execution_count": 15,
   "outputs": [
    {
     "name": "stderr",
     "output_type": "stream",
     "text": [
      "/home/weiyichen/anaconda3/lib/python3.8/site-packages/torch/nn/modules/loss.py:529: UserWarning: Using a target size (torch.Size([64])) that is different to the input size (torch.Size([64, 1])). This will likely lead to incorrect results due to broadcasting. Please ensure they have the same size.\n",
      "  return F.mse_loss(input, target, reduction=self.reduction)\n"
     ]
    },
    {
     "name": "stdout",
     "output_type": "stream",
     "text": [
      "iter: 100, loss: 0.00025\n",
      "iter: 200, loss: 0.00019\n",
      "iter: 300, loss: 0.00192\n",
      "iter: 400, loss: 0.00012\n",
      "iter: 500, loss: 0.00006\n",
      "iter: 600, loss: 0.00006\n",
      "iter: 700, loss: 0.00096\n",
      "iter: 800, loss: 0.00045\n",
      "iter: 900, loss: 0.00020\n",
      "iter: 1000, loss: 0.00057\n",
      "iter: 1100, loss: 0.00006\n",
      "iter: 1200, loss: 0.00001\n",
      "iter: 1300, loss: 0.00106\n",
      "iter: 1400, loss: 0.00002\n",
      "iter: 1500, loss: 0.00006\n",
      "iter: 1600, loss: 0.00152\n",
      "iter: 1700, loss: 0.00003\n",
      "iter: 1800, loss: 0.00001\n",
      "iter: 1900, loss: 0.00004\n",
      "iter: 2000, loss: 0.00075\n",
      "iter: 2100, loss: 0.00035\n",
      "iter: 2200, loss: 0.00017\n",
      "iter: 2300, loss: 0.00045\n",
      "iter: 2400, loss: 0.00003\n",
      "iter: 2500, loss: 0.00000\n",
      "iter: 2600, loss: 0.00095\n",
      "iter: 2700, loss: 0.00001\n",
      "iter: 2800, loss: 0.00007\n",
      "iter: 2900, loss: 0.00142\n",
      "iter: 3000, loss: 0.00001\n",
      "iter: 3100, loss: 0.00001\n",
      "iter: 3200, loss: 0.00004\n",
      "iter: 3300, loss: 0.00065\n",
      "iter: 3400, loss: 0.00029\n",
      "iter: 3500, loss: 0.00016\n",
      "iter: 3600, loss: 0.00041\n",
      "iter: 3700, loss: 0.00002\n",
      "iter: 3800, loss: 0.00000\n",
      "iter: 3900, loss: 0.00090\n",
      "iter: 4000, loss: 0.00000\n",
      "iter: 4100, loss: 0.00008\n",
      "iter: 4200, loss: 0.00137\n",
      "iter: 4300, loss: 0.00001\n",
      "iter: 4400, loss: 0.00001\n",
      "iter: 4500, loss: 0.00003\n",
      "iter: 4600, loss: 0.00061\n",
      "iter: 4700, loss: 0.00027\n",
      "iter: 4800, loss: 0.00015\n",
      "iter: 4900, loss: 0.00038\n",
      "iter: 5000, loss: 0.00001\n",
      "iter: 5100, loss: 0.00000\n",
      "iter: 5200, loss: 0.00086\n",
      "iter: 5300, loss: 0.00000\n",
      "iter: 5400, loss: 0.00008\n",
      "iter: 5500, loss: 0.00133\n",
      "iter: 5600, loss: 0.00000\n",
      "iter: 5700, loss: 0.00001\n",
      "iter: 5800, loss: 0.00003\n",
      "iter: 5900, loss: 0.00057\n",
      "iter: 6000, loss: 0.00025\n",
      "iter: 6100, loss: 0.00015\n",
      "iter: 6200, loss: 0.00036\n",
      "iter: 6300, loss: 0.00001\n",
      "iter: 6400, loss: 0.00000\n",
      "iter: 6500, loss: 0.00084\n",
      "iter: 6600, loss: 0.00000\n",
      "iter: 6700, loss: 0.00008\n",
      "iter: 6800, loss: 0.00129\n",
      "iter: 6900, loss: 0.00000\n",
      "iter: 7000, loss: 0.00001\n",
      "iter: 7100, loss: 0.00003\n",
      "iter: 7200, loss: 0.00055\n",
      "iter: 7300, loss: 0.00023\n",
      "iter: 7400, loss: 0.00015\n",
      "iter: 7500, loss: 0.00035\n",
      "iter: 7600, loss: 0.00001\n",
      "iter: 7700, loss: 0.00000\n",
      "iter: 7800, loss: 0.00081\n",
      "iter: 7900, loss: 0.00000\n",
      "iter: 8000, loss: 0.00008\n",
      "iter: 8100, loss: 0.00126\n",
      "iter: 8200, loss: 0.00000\n",
      "iter: 8300, loss: 0.00001\n",
      "iter: 8400, loss: 0.00003\n",
      "iter: 8500, loss: 0.00053\n",
      "iter: 8600, loss: 0.00023\n",
      "iter: 8700, loss: 0.00015\n",
      "iter: 8800, loss: 0.00034\n",
      "iter: 8900, loss: 0.00001\n",
      "iter: 9000, loss: 0.00000\n",
      "iter: 9100, loss: 0.00080\n",
      "iter: 9200, loss: 0.00001\n",
      "iter: 9300, loss: 0.00008\n",
      "iter: 9400, loss: 0.00125\n",
      "iter: 9500, loss: 0.00000\n",
      "iter: 9600, loss: 0.00002\n",
      "torch.Size([2151, 10, 8])\n"
     ]
    }
   ],
   "source": [
    "# model training\n",
    "iter = 0\n",
    "running_loss = 0.0\n",
    "for epoch in range(num_epochs):\n",
    "    for i, (batch_x, batch_y) in enumerate(train_loader):\n",
    "        outputs = lstm(batch_x)\n",
    "        optimizer.zero_grad()  # 将每次传播时的梯度累积清除\n",
    "        # print(outputs.shape, batch_y.shape)\n",
    "        loss = criterion(outputs, batch_y)  # 计算损失\n",
    "        loss.backward()  # 反向传播\n",
    "        optimizer.step()\n",
    "\n",
    "        running_loss += loss.item()\n",
    "        iter += 1\n",
    "        if iter % 100 == 0:\n",
    "            writer.add_scalar('training loss',\n",
    "                              running_loss / 100,\n",
    "                              epoch * len(train_loader) + i)\n",
    "            running_loss = 0.0\n",
    "            print(\"iter: %d, loss: %1.5f\" % (iter, loss.item()))\n",
    "print(x_data.shape)\n",
    "writer.add_graph(lstm, x_test)\n",
    "writer.close()"
   ],
   "metadata": {
    "collapsed": false,
    "pycharm": {
     "name": "#%%\n"
    }
   }
  },
  {
   "cell_type": "code",
   "execution_count": 18,
   "outputs": [
    {
     "name": "stdout",
     "output_type": "stream",
     "text": [
      "(2151, 1)\n",
      "(1720, 1)\n",
      "(431, 1)\n"
     ]
    },
    {
     "data": {
      "text/plain": "<matplotlib.legend.Legend at 0x7f97c809a520>"
     },
     "execution_count": 18,
     "metadata": {},
     "output_type": "execute_result"
    },
    {
     "data": {
      "text/plain": "<Figure size 720x360 with 1 Axes>",
      "image/png": "[encoded data removed]"
     },
     "metadata": {
      "needs_background": "light"
     },
     "output_type": "display_data"
    }
   ],
   "source": [
    "# testing the predction model on multiple time series\n",
    "last_x = x_train.cpu()[-1].view(80)\n",
    "prediction_val = []\n",
    "\n",
    "while len(prediction_val)<len(y_test):\n",
    "    prediction = lstm(last_x.view(1,10,8)).cpu()\n",
    "    prediction_val.append(prediction[0,0].item())\n",
    "\n",
    "    ## replace the predicted value in last x\n",
    "    last_x = torch.cat((last_x[1:],prediction[0]))\n",
    "\n",
    "y_data_plot = y_data.data.cpu().numpy()\n",
    "y_data_plot = np.reshape(y_data_plot, (-1, 1))\n",
    "# y_data_plot = mm_y.inverse_transform(y_data_plot)\n",
    "y_train_plot = y_train.data.cpu().numpy()\n",
    "y_train_plot = np.reshape(y_train_plot, (-1, 1))\n",
    "# y_train_plot = mm_y.inverse_transform(y_train_plot)\n",
    "# data_predict = mm_y.inverse_transform(np.reshape(prediction_val, (-1, 1)))\n",
    "data_predict = np.reshape(prediction_val, (-1, 1))\n",
    "print(y_data_plot.shape)\n",
    "print(y_train_plot.shape)\n",
    "print(data_predict.shape)\n",
    "# plot the result\n",
    "plt.figure(figsize=(10, 5))\n",
    "plt.plot(y_data_plot)\n",
    "plt.plot(np.concatenate((y_train_plot, data_predict), axis=0))\n",
    "plt.axvline(int(len(x)*0.8), color='red')\n",
    "plt.legend(('real', 'predict'), fontsize='10')"
   ],
   "metadata": {
    "collapsed": false,
    "pycharm": {
     "name": "#%%\n"
    }
   }
  },
  {
   "cell_type": "code",
   "execution_count": 17,
   "outputs": [
    {
     "name": "stdout",
     "output_type": "stream",
     "text": [
      "MAE/RMSE\n"
     ]
    },
    {
     "ename": "NameError",
     "evalue": "name 'data_predict' is not defined",
     "output_type": "error",
     "traceback": [
      "\u001B[0;31m---------------------------------------------------------------------------\u001B[0m",
      "\u001B[0;31mNameError\u001B[0m                                 Traceback (most recent call last)",
      "\u001B[0;32m<ipython-input-17-916110d13b3a>\u001B[0m in \u001B[0;36m<module>\u001B[0;34m\u001B[0m\n\u001B[1;32m      1\u001B[0m \u001B[0mprint\u001B[0m\u001B[0;34m(\u001B[0m\u001B[0;34m'MAE/RMSE'\u001B[0m\u001B[0;34m)\u001B[0m\u001B[0;34m\u001B[0m\u001B[0;34m\u001B[0m\u001B[0m\n\u001B[0;32m----> 2\u001B[0;31m \u001B[0mprint\u001B[0m\u001B[0;34m(\u001B[0m\u001B[0mmean_absolute_error\u001B[0m\u001B[0;34m(\u001B[0m\u001B[0my_data_plot\u001B[0m\u001B[0;34m[\u001B[0m\u001B[0;34m-\u001B[0m\u001B[0mlen\u001B[0m\u001B[0;34m(\u001B[0m\u001B[0mdata_predict\u001B[0m\u001B[0;34m)\u001B[0m\u001B[0;34m:\u001B[0m\u001B[0;34m]\u001B[0m\u001B[0;34m,\u001B[0m \u001B[0mdata_predict\u001B[0m\u001B[0;34m)\u001B[0m\u001B[0;34m)\u001B[0m\u001B[0;34m\u001B[0m\u001B[0;34m\u001B[0m\u001B[0m\n\u001B[0m\u001B[1;32m      3\u001B[0m \u001B[0mprint\u001B[0m\u001B[0;34m(\u001B[0m\u001B[0mnp\u001B[0m\u001B[0;34m.\u001B[0m\u001B[0msqrt\u001B[0m\u001B[0;34m(\u001B[0m\u001B[0mmean_squared_error\u001B[0m\u001B[0;34m(\u001B[0m\u001B[0my_data_plot\u001B[0m\u001B[0;34m[\u001B[0m\u001B[0;34m-\u001B[0m\u001B[0mlen\u001B[0m\u001B[0;34m(\u001B[0m\u001B[0mdata_predict\u001B[0m\u001B[0;34m)\u001B[0m\u001B[0;34m:\u001B[0m\u001B[0;34m]\u001B[0m\u001B[0;34m,\u001B[0m \u001B[0mdata_predict\u001B[0m\u001B[0;34m)\u001B[0m\u001B[0;34m)\u001B[0m\u001B[0;34m)\u001B[0m\u001B[0;34m\u001B[0m\u001B[0;34m\u001B[0m\u001B[0m\n\u001B[1;32m      4\u001B[0m \u001B[0mprint\u001B[0m\u001B[0;34m(\u001B[0m\u001B[0;34m'R2: %.3f'\u001B[0m \u001B[0;34m%\u001B[0m \u001B[0mr2_score\u001B[0m\u001B[0;34m(\u001B[0m\u001B[0my_data_plot\u001B[0m\u001B[0;34m[\u001B[0m\u001B[0;34m-\u001B[0m\u001B[0mlen\u001B[0m\u001B[0;34m(\u001B[0m\u001B[0mdata_predict\u001B[0m\u001B[0;34m)\u001B[0m\u001B[0;34m:\u001B[0m\u001B[0;34m]\u001B[0m\u001B[0;34m,\u001B[0m \u001B[0mdata_predict\u001B[0m\u001B[0;34m)\u001B[0m\u001B[0;34m)\u001B[0m\u001B[0;34m\u001B[0m\u001B[0;34m\u001B[0m\u001B[0m\n",
      "\u001B[0;31mNameError\u001B[0m: name 'data_predict' is not defined"
     ]
    }
   ],
   "source": [
    "print('MAE/RMSE')\n",
    "print(mean_absolute_error(y_data_plot[-len(data_predict):], data_predict))\n",
    "print(np.sqrt(mean_squared_error(y_data_plot[-len(data_predict):], data_predict)))\n",
    "print('R2: %.3f' % r2_score(y_data_plot[-len(data_predict):], data_predict))"
   ],
   "metadata": {
    "collapsed": false,
    "pycharm": {
     "name": "#%%\n"
    }
   }
  },
  {
   "cell_type": "code",
   "execution_count": null,
   "outputs": [],
   "source": [],
   "metadata": {
    "collapsed": false,
    "pycharm": {
     "name": "#%%\n"
    }
   }
  }
 ],
 "metadata": {
  "kernelspec": {
   "display_name": "Python 3",
   "language": "python",
   "name": "python3"
  },
  "language_info": {
   "codemirror_mode": {
    "name": "ipython",
    "version": 2
   },
   "file_extension": ".py",
   "mimetype": "text/x-python",
   "name": "python",
   "nbconvert_exporter": "python",
   "pygments_lexer": "ipython2",
   "version": "2.7.6"
  }
 },
 "nbformat": 4,
 "nbformat_minor": 0
}