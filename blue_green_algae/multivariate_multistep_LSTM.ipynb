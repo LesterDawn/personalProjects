{
 "cells": [
  {
   "cell_type": "code",
   "execution_count": 177,
   "metadata": {
    "collapsed": true,
    "pycharm": {
     "name": "#%%\n"
    }
   },
   "outputs": [],
   "source": [
    "import numpy as np\n",
    "import pandas as pd\n",
    "import matplotlib.pyplot as plt\n",
    "%matplotlib inline\n",
    "import torch\n",
    "import torch.utils.data as Data\n",
    "import torch.nn as nn\n",
    "from torch.autograd import Variable\n",
    "from torch.utils.tensorboard import SummaryWriter\n",
    "from sklearn.metrics import mean_squared_error\n",
    "from sklearn.metrics import mean_absolute_error\n",
    "from sklearn.metrics import r2_score\n",
    "\n",
    "writer = SummaryWriter('runs/multi-features-LSTM')\n",
    "# from torchvision import transforms, datasets\n",
    "pd.set_option('display.max_columns', 1000)\n",
    "device = torch.device(\"cuda:0\" if torch.cuda.is_available() else \"cpu\")"
   ]
  },
  {
   "cell_type": "code",
   "execution_count": 178,
   "outputs": [],
   "source": [
    "from scipy.signal import savgol_filter\n",
    "# Get data and remove outliers and minus values\n",
    "def delete_outliers(data, filter):\n",
    "    if filter:\n",
    "        for attr in data.columns:\n",
    "            data[attr] = pd.DataFrame(savgol_filter(data[attr], window_length=11, polyorder=3))\n",
    "\n",
    "    data = data[data > 0].dropna()\n",
    "    data.reset_index(drop=True, inplace=True)\n",
    "    data_norm = (data - data.mean()) / (data.std())\n",
    "    data = data[abs(data_norm[:]) <= 3].dropna().reset_index(drop=True)\n",
    "    return data\n",
    "\n",
    "\n",
    "def get_data(data_path, outliers, filter):\n",
    "    data = pd.read_csv(data_path).dropna()\n",
    "    data = data.sort_values('时间')\n",
    "    attrs = ['叶绿素', '电导率', '溶解氧(mg/L)', '藻蛋白', '总溶解固体', '浊度', '温度', 'PH值']\n",
    "    data['藻蛋白'] /= 100\n",
    "    data = data[attrs]  # 8 features作为输入\n",
    "    if outliers:\n",
    "        data = delete_outliers(data, filter)\n",
    "    label = data['藻蛋白']  # 藻蛋白作为target\n",
    "\n",
    "    print(data.head())\n",
    "    print(label.head())\n",
    "    return data, label"
   ],
   "metadata": {
    "collapsed": false,
    "pycharm": {
     "name": "#%%\n"
    }
   }
  },
  {
   "cell_type": "code",
   "execution_count": 179,
   "outputs": [
    {
     "name": "stdout",
     "output_type": "stream",
     "text": [
      "    叶绿素     电导率  溶解氧(mg/L)      藻蛋白   总溶解固体     浊度      温度   PH值\n",
      "0  5.91  489.46       4.32  29.1264  272.92  15.15  33.676  8.92\n",
      "1  5.97  488.68       3.44  29.0809  272.54  15.29  33.662  8.92\n",
      "2  5.95  488.29       4.19  29.2444  272.42  15.54  33.643  8.93\n",
      "3  6.00  488.45       6.05  29.4749  272.54  15.65  33.636  8.93\n",
      "4  5.91  488.60       8.52  29.6707  272.55  15.76  33.653  8.94\n",
      "0    29.1264\n",
      "1    29.0809\n",
      "2    29.2444\n",
      "3    29.4749\n",
      "4    29.6707\n",
      "Name: 藻蛋白, dtype: float64\n"
     ]
    }
   ],
   "source": [
    "data, label = get_data('./datasets/监测数据1/监测数据-独墅-20210901.csv',\n",
    "                outliers=True, filter=False)"
   ],
   "metadata": {
    "collapsed": false,
    "pycharm": {
     "name": "#%%\n"
    }
   }
  },
  {
   "cell_type": "code",
   "execution_count": 309,
   "outputs": [],
   "source": [
    "def split_windows(data, seq_length, normalize):\n",
    "    data = np.array(data)\n",
    "    x = []\n",
    "    y = []\n",
    "    for i in range(len(data) - seq_length):  # range的范围需要减去时间步长和1\n",
    "        _x = data[i:(i + seq_length), :]\n",
    "        _y = data[i + seq_length, -1]\n",
    "        x.append(_x)\n",
    "        y.append(_y)\n",
    "    x = normalize_window(np.array(x), True) if normalize else np.array(x)\n",
    "    y = normalize_window(np.array(y), False) if normalize else np.array(y)\n",
    "    x, y = torch.tensor(x), torch.tensor(y)\n",
    "    print('x.shape,y.shape=\\n', x.shape, y.shape)\n",
    "    return x, y\n",
    "\n",
    "\n",
    "def normalize_window(x, x_or_y):\n",
    "    # get normalized data\n",
    "    if x_or_y:\n",
    "        normalized_data = []\n",
    "        for window in x:\n",
    "            normalized_window = []\n",
    "            for col_i in range(window.shape[1]):\n",
    "                a = float(window[0, col_i])\n",
    "                # print(a)\n",
    "                normalized_col = [((float(p) / a) - 1) for p in window[:, col_i]]\n",
    "                normalized_window.append(normalized_col)\n",
    "            normalized_window = np.array(normalized_window).T\n",
    "            normalized_data.append(normalized_window)\n",
    "        return np.array(normalized_data)\n",
    "    else:\n",
    "        normalized_col = [(float(p) / x[0]) - 1 for p in x]\n",
    "        return np.array(normalized_col)"
   ],
   "metadata": {
    "collapsed": false,
    "pycharm": {
     "name": "#%%\n"
    }
   }
  },
  {
   "cell_type": "code",
   "execution_count": 322,
   "outputs": [
    {
     "name": "stdout",
     "output_type": "stream",
     "text": [
      "x.shape,y.shape=\n",
      " torch.Size([7206, 10, 8]) torch.Size([7206])\n"
     ]
    }
   ],
   "source": [
    "x, y = split_windows(data, 10, True)"
   ],
   "metadata": {
    "collapsed": false,
    "pycharm": {
     "name": "#%%\n"
    }
   }
  },
  {
   "cell_type": "code",
   "execution_count": 323,
   "outputs": [],
   "source": [
    "# # scale the data\n",
    "# from sklearn.preprocessing import MinMaxScaler\n",
    "# mm_x = MinMaxScaler(feature_range=(0,1))\n",
    "# mm_y = MinMaxScaler(feature_range=(0,1))\n",
    "# data_norm = mm_x.fit_transform(data.values)\n",
    "# label_norm = mm_y.fit_transform(label.values.reshape(-1, 1))"
   ],
   "metadata": {
    "collapsed": false,
    "pycharm": {
     "name": "#%%\n"
    }
   }
  },
  {
   "cell_type": "code",
   "execution_count": 328,
   "outputs": [],
   "source": [
    "# convert the x and y values into arrays\n",
    "x, y = np.asarray(x), np.asarray(y)"
   ],
   "metadata": {
    "collapsed": false,
    "pycharm": {
     "name": "#%%\n"
    }
   }
  },
  {
   "cell_type": "code",
   "execution_count": 329,
   "outputs": [],
   "source": [
    "# split the dataset into train and test sets\n",
    "# transfer the nparray to variable so that the computation can be performed in GPU\n",
    "def split_data(x, y, split_ratio):\n",
    "    train_size = int(len(y) * split_ratio)\n",
    "    test_size = len(y) - train_size\n",
    "\n",
    "    x_data = Variable(torch.Tensor(x))\n",
    "    y_data = Variable(torch.Tensor(y))\n",
    "\n",
    "    x_train = Variable(torch.Tensor(x[0:train_size]))\n",
    "    y_train = Variable(torch.Tensor(y[0:train_size]))\n",
    "    y_test = Variable(torch.Tensor(y[train_size:len(y)]))\n",
    "    x_test = Variable(torch.Tensor(x[train_size:len(x)]))\n",
    "\n",
    "    print('x_data.shape,y_data.shape,x_train.shape,y_train.shape,x_test.shape,y_test.shape:\\n{}{}{}{}{}{}'\n",
    "          .format(x_data.shape, y_data.shape, x_train.shape, y_train.shape, x_test.shape, y_test.shape))\n",
    "\n",
    "    return x_data, y_data, x_train, y_train, x_test, y_test"
   ],
   "metadata": {
    "collapsed": false,
    "pycharm": {
     "name": "#%%\n"
    }
   }
  },
  {
   "cell_type": "code",
   "execution_count": 330,
   "outputs": [
    {
     "name": "stdout",
     "output_type": "stream",
     "text": [
      "x_data.shape,y_data.shape,x_train.shape,y_train.shape,x_test.shape,y_test.shape:\n",
      "torch.Size([7206, 10, 8])torch.Size([7206])torch.Size([5764, 10, 8])torch.Size([5764])torch.Size([1442, 10, 8])torch.Size([1442])\n"
     ]
    }
   ],
   "source": [
    "x_data, y_data, x_train, y_train, x_test, y_test = split_data(x, y, split_ratio=0.8)"
   ],
   "metadata": {
    "collapsed": false,
    "pycharm": {
     "name": "#%%\n"
    }
   }
  },
  {
   "cell_type": "code",
   "execution_count": 331,
   "outputs": [
    {
     "data": {
      "text/plain": "<matplotlib.lines.Line2D at 0x7fdd0048ccd0>"
     },
     "execution_count": 331,
     "metadata": {},
     "output_type": "execute_result"
    },
    {
     "data": {
      "text/plain": "<Figure size 432x288 with 1 Axes>",
      "image/png": "[encoded data removed]"
     },
     "metadata": {
      "needs_background": "light"
     },
     "output_type": "display_data"
    }
   ],
   "source": [
    "plt.plot(y)\n",
    "plt.axvline(int(len(x)*0.8))"
   ],
   "metadata": {
    "collapsed": false,
    "pycharm": {
     "name": "#%%\n"
    }
   }
  },
  {
   "cell_type": "code",
   "execution_count": 332,
   "outputs": [],
   "source": [
    "# 数据装入\n",
    "def data_generator(x_train, y_train, n_iters, batch_size):\n",
    "    num_epochs = n_iters / (len(x_train) / batch_size)  # n_iters代表一次迭代\n",
    "    num_epochs = int(num_epochs)\n",
    "    train_dataset = Data.TensorDataset(x_train, y_train)\n",
    "    test_dataset = Data.TensorDataset(x_train, y_train)\n",
    "    train_loader = torch.utils.data.DataLoader(dataset=train_dataset, batch_size=batch_size, shuffle=False,\n",
    "                                               drop_last=True)  # 加载数据集,使数据集可迭代\n",
    "    test_loader = torch.utils.data.DataLoader(dataset=test_dataset, batch_size=batch_size, shuffle=False,\n",
    "                                              drop_last=True)\n",
    "\n",
    "    return train_loader, test_loader, num_epochs"
   ],
   "metadata": {
    "collapsed": false,
    "pycharm": {
     "name": "#%%\n"
    }
   }
  },
  {
   "cell_type": "code",
   "execution_count": 333,
   "outputs": [],
   "source": [
    "# Implement LSTM\n",
    "class LSTM(nn.Module):\n",
    "    def __init__(self, input_size, hidden_size, num_layers, output_size, batch_size) -> None:\n",
    "        super(LSTM, self).__init__()\n",
    "        self.input_size = input_size\n",
    "        self.hidden_size = hidden_size\n",
    "        self.num_layers = num_layers\n",
    "        self.output_size = output_size\n",
    "        self.batch_size = batch_size\n",
    "        self.num_directions = 1  # 单向LSTM\n",
    "\n",
    "        self.lstm = nn.LSTM(input_size=input_size, hidden_size=hidden_size, num_layers=num_layers, batch_first=True, dropout=0.2).to(device)  # LSTM层\n",
    "        self.fc = nn.Linear(hidden_size, output_size).to(device)  # 全连接层\n",
    "\n",
    "    def forward(self, x):\n",
    "\n",
    "        # initialize the hidden state\n",
    "        h0 = torch.zeros(self.num_layers, x.size(0), self.hidden_size)\n",
    "        c0 = torch.zeros(self.num_layers, x.size(0), self.hidden_size)\n",
    "\n",
    "        # forward propagate\n",
    "        out, (h_,c_) = self.lstm(x.to(device), (h0.to(device), c0.to(device)))\n",
    "\n",
    "        out = self.fc(out)[:,-1,:]\n",
    "        return out"
   ],
   "metadata": {
    "collapsed": false,
    "pycharm": {
     "name": "#%%\n"
    }
   }
  },
  {
   "cell_type": "code",
   "execution_count": 334,
   "outputs": [
    {
     "name": "stdout",
     "output_type": "stream",
     "text": [
      "finish\n"
     ]
    }
   ],
   "source": [
    "# define the parameters and model\n",
    "input_size = 8\n",
    "output_size = 1\n",
    "num_layers = 8\n",
    "hidden_size = 12\n",
    "batch_size = 64\n",
    "n_iters = 10000\n",
    "lr = 0.001\n",
    "\n",
    "train_loader, test_loader, num_epochs = data_generator(x_train.to(device), y_train.to(device), n_iters, batch_size)\n",
    "lstm = LSTM(input_size, hidden_size, num_layers, output_size, batch_size).to(device)\n",
    "optimizer = torch.optim.Adam(lstm.parameters(), lr=lr)\n",
    "criterion = torch.nn.MSELoss().to(device)\n",
    "print('finish')"
   ],
   "metadata": {
    "collapsed": false,
    "pycharm": {
     "name": "#%%\n"
    }
   }
  },
  {
   "cell_type": "code",
   "execution_count": 335,
   "outputs": [
    {
     "name": "stderr",
     "output_type": "stream",
     "text": [
      "/home/weiyichen/anaconda3/lib/python3.8/site-packages/torch/nn/modules/loss.py:529: UserWarning: Using a target size (torch.Size([64])) that is different to the input size (torch.Size([64, 1])). This will likely lead to incorrect results due to broadcasting. Please ensure they have the same size.\n",
      "  return F.mse_loss(input, target, reduction=self.reduction)\n"
     ]
    },
    {
     "name": "stdout",
     "output_type": "stream",
     "text": [
      "iter: 100, loss: 0.00008\n",
      "iter: 200, loss: 0.00011\n",
      "iter: 300, loss: 0.00014\n",
      "iter: 400, loss: 0.00014\n",
      "iter: 500, loss: 0.00003\n",
      "iter: 600, loss: 0.00007\n",
      "iter: 700, loss: 0.00008\n",
      "iter: 800, loss: 0.00011\n",
      "iter: 900, loss: 0.00001\n",
      "iter: 1000, loss: 0.00006\n",
      "iter: 1100, loss: 0.00002\n",
      "iter: 1200, loss: 0.00009\n",
      "iter: 1300, loss: 0.00010\n",
      "iter: 1400, loss: 0.00001\n",
      "iter: 1500, loss: 0.00006\n",
      "iter: 1600, loss: 0.00007\n",
      "iter: 1700, loss: 0.00010\n",
      "iter: 1800, loss: 0.00001\n",
      "iter: 1900, loss: 0.00004\n",
      "iter: 2000, loss: 0.00002\n",
      "iter: 2100, loss: 0.00009\n",
      "iter: 2200, loss: 0.00012\n",
      "iter: 2300, loss: 0.00000\n",
      "iter: 2400, loss: 0.00009\n",
      "iter: 2500, loss: 0.00005\n",
      "iter: 2600, loss: 0.00012\n",
      "iter: 2700, loss: 0.00001\n",
      "iter: 2800, loss: 0.00004\n",
      "iter: 2900, loss: 0.00004\n",
      "iter: 3000, loss: 0.00007\n",
      "iter: 3100, loss: 0.00015\n",
      "iter: 3200, loss: 0.00002\n",
      "iter: 3300, loss: 0.00014\n",
      "iter: 3400, loss: 0.00002\n",
      "iter: 3500, loss: 0.00016\n",
      "iter: 3600, loss: 0.00003\n",
      "iter: 3700, loss: 0.00002\n",
      "iter: 3800, loss: 0.00008\n",
      "iter: 3900, loss: 0.00004\n",
      "iter: 4000, loss: 0.00018\n",
      "iter: 4100, loss: 0.00005\n",
      "iter: 4200, loss: 0.00017\n",
      "iter: 4300, loss: 0.00000\n",
      "iter: 4400, loss: 0.00016\n",
      "iter: 4500, loss: 0.00007\n",
      "iter: 4600, loss: 0.00001\n",
      "iter: 4700, loss: 0.00010\n",
      "iter: 4800, loss: 0.00001\n",
      "iter: 4900, loss: 0.00017\n",
      "iter: 5000, loss: 0.00009\n",
      "iter: 5100, loss: 0.00017\n",
      "iter: 5200, loss: 0.00001\n",
      "iter: 5300, loss: 0.00014\n",
      "iter: 5400, loss: 0.00010\n",
      "iter: 5500, loss: 0.00000\n",
      "iter: 5600, loss: 0.00010\n",
      "iter: 5700, loss: 0.00000\n",
      "iter: 5800, loss: 0.00015\n",
      "iter: 5900, loss: 0.00012\n",
      "iter: 6000, loss: 0.00016\n",
      "iter: 6100, loss: 0.00001\n",
      "iter: 6200, loss: 0.00013\n",
      "iter: 6300, loss: 0.00011\n",
      "iter: 6400, loss: 0.00001\n",
      "iter: 6500, loss: 0.00010\n",
      "iter: 6600, loss: 0.00000\n",
      "iter: 6700, loss: 0.00013\n",
      "iter: 6800, loss: 0.00013\n",
      "iter: 6900, loss: 0.00014\n",
      "iter: 7000, loss: 0.00001\n",
      "iter: 7100, loss: 0.00013\n",
      "iter: 7200, loss: 0.00011\n",
      "iter: 7300, loss: 0.00001\n",
      "iter: 7400, loss: 0.00009\n",
      "iter: 7500, loss: 0.00000\n",
      "iter: 7600, loss: 0.00012\n",
      "iter: 7700, loss: 0.00014\n",
      "iter: 7800, loss: 0.00014\n",
      "iter: 7900, loss: 0.00001\n",
      "iter: 8000, loss: 0.00012\n",
      "iter: 8100, loss: 0.00011\n",
      "iter: 8200, loss: 0.00002\n",
      "iter: 8300, loss: 0.00008\n",
      "iter: 8400, loss: 0.00001\n",
      "iter: 8500, loss: 0.00012\n",
      "iter: 8600, loss: 0.00014\n",
      "iter: 8700, loss: 0.00014\n",
      "iter: 8800, loss: 0.00002\n",
      "iter: 8900, loss: 0.00010\n",
      "iter: 9000, loss: 0.00011\n",
      "iter: 9100, loss: 0.00002\n",
      "iter: 9200, loss: 0.00009\n",
      "iter: 9300, loss: 0.00001\n",
      "iter: 9400, loss: 0.00011\n",
      "iter: 9500, loss: 0.00014\n",
      "iter: 9600, loss: 0.00013\n",
      "iter: 9700, loss: 0.00002\n",
      "iter: 9800, loss: 0.00010\n",
      "iter: 9900, loss: 0.00012\n",
      "torch.Size([7206, 10, 8])\n"
     ]
    }
   ],
   "source": [
    "# model training\n",
    "iter = 0\n",
    "running_loss = 0.0\n",
    "for epoch in range(num_epochs):\n",
    "    for i, (batch_x, batch_y) in enumerate(train_loader):\n",
    "        outputs = lstm(batch_x)\n",
    "        optimizer.zero_grad()  # 将每次传播时的梯度累积清除\n",
    "        # print(outputs.shape, batch_y.shape)\n",
    "        loss = criterion(outputs, batch_y)  # 计算损失\n",
    "        loss.backward()  # 反向传播\n",
    "        optimizer.step()\n",
    "\n",
    "        running_loss += loss.item()\n",
    "        iter += 1\n",
    "        if iter % 100 == 0:\n",
    "            writer.add_scalar('training loss',\n",
    "                              running_loss / 100,\n",
    "                              epoch * len(train_loader) + i)\n",
    "            running_loss = 0.0\n",
    "            print(\"iter: %d, loss: %1.5f\" % (iter, loss.item()))\n",
    "print(x_data.shape)\n",
    "writer.add_graph(lstm, x_test)\n",
    "writer.close()"
   ],
   "metadata": {
    "collapsed": false,
    "pycharm": {
     "name": "#%%\n"
    }
   }
  },
  {
   "cell_type": "code",
   "execution_count": 336,
   "outputs": [
    {
     "name": "stdout",
     "output_type": "stream",
     "text": [
      "(7206, 1)\n",
      "(5764, 1)\n",
      "(1442, 1)\n"
     ]
    },
    {
     "data": {
      "text/plain": "<matplotlib.legend.Legend at 0x7fdd0033fb80>"
     },
     "execution_count": 336,
     "metadata": {},
     "output_type": "execute_result"
    },
    {
     "data": {
      "text/plain": "<Figure size 720x360 with 1 Axes>",
      "image/png": "[encoded data removed]"
     },
     "metadata": {
      "needs_background": "light"
     },
     "output_type": "display_data"
    }
   ],
   "source": [
    "# testing the predction model on multiple time series\n",
    "last_x = x_train.cpu()[-1].view(80)\n",
    "prediction_val = []\n",
    "\n",
    "while len(prediction_val)<len(y_test):\n",
    "    prediction = lstm(last_x.view(1,10,8)).cpu()\n",
    "    prediction_val.append(prediction[0,0].item())\n",
    "\n",
    "    ## replace the predicted value in last x\n",
    "    last_x = torch.cat((last_x[1:],prediction[0]))\n",
    "\n",
    "y_data_plot = y_data.data.cpu().numpy()\n",
    "y_data_plot = np.reshape(y_data_plot, (-1, 1))\n",
    "y_data_plot = mm_y.inverse_transform(y_data_plot)\n",
    "y_train_plot = y_train.data.cpu().numpy()\n",
    "y_train_plot = np.reshape(y_train_plot, (-1, 1))\n",
    "y_train_plot = mm_y.inverse_transform(y_train_plot)\n",
    "data_predict = mm_y.inverse_transform(np.reshape(prediction_val, (-1, 1)))\n",
    "print(y_data_plot.shape)\n",
    "print(y_train_plot.shape)\n",
    "print(data_predict.shape)\n",
    "# plot the result\n",
    "plt.figure(figsize=(10, 5))\n",
    "plt.plot(y_data_plot)\n",
    "plt.plot(np.concatenate((y_train_plot, data_predict), axis=0))\n",
    "plt.axvline(int(len(x)*0.8), color='red')\n",
    "plt.legend(('real', 'predict'), fontsize='10')"
   ],
   "metadata": {
    "collapsed": false,
    "pycharm": {
     "name": "#%%\n"
    }
   }
  },
  {
   "cell_type": "code",
   "execution_count": 337,
   "outputs": [
    {
     "name": "stdout",
     "output_type": "stream",
     "text": [
      "MAE/RMSE\n",
      "0.30660062017263007\n",
      "0.39292133557058284\n",
      "R2: -0.368\n"
     ]
    }
   ],
   "source": [
    "print('MAE/RMSE')\n",
    "print(mean_absolute_error(y_data_plot[-len(data_predict):], data_predict))\n",
    "print(np.sqrt(mean_squared_error(y_data_plot[-len(data_predict):], data_predict)))\n",
    "print('R2: %.3f' % r2_score(y_data_plot[-len(data_predict):], data_predict))"
   ],
   "metadata": {
    "collapsed": false,
    "pycharm": {
     "name": "#%%\n"
    }
   }
  },
  {
   "cell_type": "code",
   "execution_count": null,
   "outputs": [],
   "source": [],
   "metadata": {
    "collapsed": false,
    "pycharm": {
     "name": "#%%\n"
    }
   }
  }
 ],
 "metadata": {
  "kernelspec": {
   "display_name": "Python 3",
   "language": "python",
   "name": "python3"
  },
  "language_info": {
   "codemirror_mode": {
    "name": "ipython",
    "version": 2
   },
   "file_extension": ".py",
   "mimetype": "text/x-python",
   "name": "python",
   "nbconvert_exporter": "python",
   "pygments_lexer": "ipython2",
   "version": "2.7.6"
  }
 },
 "nbformat": 4,
 "nbformat_minor": 0
}